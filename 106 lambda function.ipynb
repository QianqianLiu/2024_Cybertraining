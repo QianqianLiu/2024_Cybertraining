{
  "nbformat": 4,
  "nbformat_minor": 0,
  "metadata": {
    "colab": {
      "provenance": []
    },
    "kernelspec": {
      "name": "python3",
      "display_name": "Python 3"
    },
    "language_info": {
      "name": "python"
    }
  },
  "cells": [
    {
      "cell_type": "markdown",
      "source": [
        "This is a mini lecture created by Yang about the lambda function. If you see the lambda function in lecture 105 and you need a few more examples, please read this notebook. No submission is needed."
      ],
      "metadata": {
        "id": "UIMFF_8BuJos"
      }
    },
    {
      "cell_type": "markdown",
      "source": [
        "## Lambda function\n",
        "\n",
        "Syntax -\n",
        "\n",
        "`lambda arguments:expression`"
      ],
      "metadata": {
        "id": "0Ju-4VdTrlmK"
      }
    },
    {
      "cell_type": "code",
      "source": [
        "double = lambda x:x*2  # this is a tiny lambda function, we name it `double`"
      ],
      "metadata": {
        "id": "YJQ_neP1rr30"
      },
      "execution_count": 1,
      "outputs": []
    },
    {
      "cell_type": "code",
      "source": [
        "double(5)  #it should return 10"
      ],
      "metadata": {
        "colab": {
          "base_uri": "https://localhost:8080/"
        },
        "id": "gWWviqCWrxui",
        "outputId": "4b5cf805-6cf9-46f7-9971-95474b7251f6"
      },
      "execution_count": 2,
      "outputs": [
        {
          "output_type": "execute_result",
          "data": {
            "text/plain": [
              "10"
            ]
          },
          "metadata": {},
          "execution_count": 2
        }
      ]
    },
    {
      "cell_type": "code",
      "source": [
        "addition = lambda x, y:x+y # this another example - this lambda function takes two values, and add them together\n",
        "addition(10,12)"
      ],
      "metadata": {
        "colab": {
          "base_uri": "https://localhost:8080/"
        },
        "id": "dyNl7pxor1Mh",
        "outputId": "199e4c60-8806-4e15-8f02-52689f510652"
      },
      "execution_count": 3,
      "outputs": [
        {
          "output_type": "execute_result",
          "data": {
            "text/plain": [
              "22"
            ]
          },
          "metadata": {},
          "execution_count": 3
        }
      ]
    },
    {
      "cell_type": "code",
      "source": [
        "addition(10,12, 25) # Dang! doesn't work, why? This lambda function takes two parameters. ;-("
      ],
      "metadata": {
        "colab": {
          "base_uri": "https://localhost:8080/",
          "height": 141
        },
        "id": "nuMo5-wLsBxx",
        "outputId": "cc4ccea3-50bc-4248-9520-ce9569a7200b"
      },
      "execution_count": 4,
      "outputs": [
        {
          "output_type": "error",
          "ename": "TypeError",
          "evalue": "<lambda>() takes 2 positional arguments but 3 were given",
          "traceback": [
            "\u001b[0;31m---------------------------------------------------------------------------\u001b[0m",
            "\u001b[0;31mTypeError\u001b[0m                                 Traceback (most recent call last)",
            "\u001b[0;32m<ipython-input-4-a4e3250a0641>\u001b[0m in \u001b[0;36m<cell line: 1>\u001b[0;34m()\u001b[0m\n\u001b[0;32m----> 1\u001b[0;31m \u001b[0maddition\u001b[0m\u001b[0;34m(\u001b[0m\u001b[0;36m10\u001b[0m\u001b[0;34m,\u001b[0m\u001b[0;36m12\u001b[0m\u001b[0;34m,\u001b[0m \u001b[0;36m25\u001b[0m\u001b[0;34m)\u001b[0m\u001b[0;34m\u001b[0m\u001b[0;34m\u001b[0m\u001b[0m\n\u001b[0m",
            "\u001b[0;31mTypeError\u001b[0m: <lambda>() takes 2 positional arguments but 3 were given"
          ]
        }
      ]
    },
    {
      "cell_type": "markdown",
      "source": [
        "## Map() function\n",
        "Apply a function to *all* the elemenets in a sequence (can be python list, or other sequential types, like string, tuple)\n",
        "\n",
        "`map(func, seq)`"
      ],
      "metadata": {
        "id": "RcQh9dOosPZs"
      }
    },
    {
      "cell_type": "code",
      "source": [
        "# Remember we have the double() function?\n",
        "double(99)"
      ],
      "metadata": {
        "colab": {
          "base_uri": "https://localhost:8080/"
        },
        "id": "xMU9O96Tsb1C",
        "outputId": "fe617eb3-5b48-47a4-d95c-77d55f44dbdf"
      },
      "execution_count": 5,
      "outputs": [
        {
          "output_type": "execute_result",
          "data": {
            "text/plain": [
              "198"
            ]
          },
          "metadata": {},
          "execution_count": 5
        }
      ]
    },
    {
      "cell_type": "code",
      "source": [
        "# mapping the double() function to a list\n",
        "my_list = [77, 12, 1.1]\n",
        "map(double, my_list)\n",
        "\n",
        "# we have a map object, we have to turn it(force it) into a python list"
      ],
      "metadata": {
        "colab": {
          "base_uri": "https://localhost:8080/"
        },
        "id": "TIVMgCXusD1R",
        "outputId": "f21b1f09-5117-436f-bc16-7db61cf6d5bc"
      },
      "execution_count": 6,
      "outputs": [
        {
          "output_type": "execute_result",
          "data": {
            "text/plain": [
              "<map at 0x79f8b8106200>"
            ]
          },
          "metadata": {},
          "execution_count": 6
        }
      ]
    },
    {
      "cell_type": "code",
      "source": [
        "list(map(double, my_list)) # all values double! =D"
      ],
      "metadata": {
        "colab": {
          "base_uri": "https://localhost:8080/"
        },
        "id": "n5VGYKdTsrOS",
        "outputId": "671a5de6-6cc2-40f7-a383-ecf496dc4917"
      },
      "execution_count": 7,
      "outputs": [
        {
          "output_type": "execute_result",
          "data": {
            "text/plain": [
              "[154, 24, 2.2]"
            ]
          },
          "metadata": {},
          "execution_count": 7
        }
      ]
    },
    {
      "cell_type": "markdown",
      "source": [
        "## Lambda as \"unnamed\" function\n",
        "\n",
        "How about we want to increase all the values by 50%, then, we don't bother to give this function a name?\n"
      ],
      "metadata": {
        "id": "WcLab5khs4Il"
      }
    },
    {
      "cell_type": "code",
      "source": [
        "my_list = [77, 12, 1.1]\n",
        "list(map(lambda x:1.5*x, my_list))  # show time - \"one-line\" magic\n"
      ],
      "metadata": {
        "colab": {
          "base_uri": "https://localhost:8080/"
        },
        "id": "ZUxIR6f4tEa7",
        "outputId": "40436eb1-2c53-4d97-8f0a-283cfec0ec82"
      },
      "execution_count": 9,
      "outputs": [
        {
          "output_type": "execute_result",
          "data": {
            "text/plain": [
              "[115.5, 18.0, 1.6500000000000001]"
            ]
          },
          "metadata": {},
          "execution_count": 9
        }
      ]
    },
    {
      "cell_type": "code",
      "source": [
        "# The code above is equivalent to the code below\n",
        "# no one will laugh at you if you do this version, but some geek do the \"one-line\" style.\n",
        "def increase_by_50(x):\n",
        "  return x*1.5\n",
        "list(map(increase_by_50, my_list))"
      ],
      "metadata": {
        "colab": {
          "base_uri": "https://localhost:8080/"
        },
        "id": "LhV_o3gVtOwM",
        "outputId": "f81c874f-84a4-45ce-f471-d2b91d7b6d1a"
      },
      "execution_count": 10,
      "outputs": [
        {
          "output_type": "execute_result",
          "data": {
            "text/plain": [
              "[115.5, 18.0, 1.6500000000000001]"
            ]
          },
          "metadata": {},
          "execution_count": 10
        }
      ]
    }
  ]
}