{
  "cells": [
    {
      "cell_type": "markdown",
      "metadata": {
        "id": "view-in-github",
        "colab_type": "text"
      },
      "source": [
        "<a href=\"https://colab.research.google.com/github/QianqianLiu/2024_Cybertraining/blob/main/Python_Crash_Course_101.ipynb\" target=\"_parent\"><img src=\"https://colab.research.google.com/assets/colab-badge.svg\" alt=\"Open In Colab\"/></a>"
      ]
    },
    {
      "cell_type": "markdown",
      "metadata": {
        "id": "E-RUdHUa806F"
      },
      "source": [
        " Python Crash Course 101: Introduction to Python\n",
        "\n",
        " This notebook is based on [Python Crash Course Book](http://ehmatthes.github.io/pcc/cheatsheets/README.html) by [Eric Matthes](https://github.com/ehmatthes) which is free through [UNCW library](https://libcat.uncw.edu/search~S4?/X(python+crash+course)&searchscope=4&SORT=D&m=a&m=c&m=h&b=wg&b=wj&b=wr&b=wf&b=wh&b=wb&b=wc&b=we&b=wi&b=wl&b=wn&b=ws&b=wu&b=wv&b=eb/X(python+crash+course)&searchscope=4&SORT=D&m=a&m=c&m=h&b=wg&b=wj&b=wr&b=wf&b=wh&b=wb&b=wc&b=we&b=wi&b=wl&b=wn&b=ws&b=wu&b=wv&b=eb&SUBKEY=(python+crash+course)/1%2C4%2C4%2CB/frameset&FF=X(python+crash+course)&searchscope=4&SORT=D&m=a&m=c&m=h&b=wg&b=wj&b=wr&b=wf&b=wh&b=wb&b=wc&b=we&b=wi&b=wl&b=wn&b=ws&b=wu&b=wv&b=eb&1%2C1%2C)"
      ]
    },
    {
      "cell_type": "markdown",
      "metadata": {
        "id": "I9qlQLZF806I"
      },
      "source": [
        "# <font color=\"blue\">Table of Contents</font>\n",
        "\n",
        "## Canvas\n",
        "* Please let us know if you cannot login\n",
        "http://uncw.instructure.com\n",
        "* You should be able to find you class materials there (lecture notes, exercises, assignments, etc)\n",
        "\n",
        "## Crash Course in Google Colab\n",
        "* How to use Cells in Google Colab\n",
        "    * Code cell\n",
        "    * Markdown cell\n",
        "\n",
        "\n",
        "## Introduction to Python\n",
        "* Why Python\n",
        "\n",
        "        \n",
        "## Coding in Python\n",
        "* Comments\n",
        "* Variables\n",
        "    * Variable naming rules\n",
        "    * Declare a variable\n",
        "* Numbers\n",
        "    * int\n",
        "    * float\n",
        "    * complex\n",
        "* Strings\n",
        "    * Notations\n",
        "    * Manipulations\n",
        "* Literal Constants\n",
        "* Operators\n",
        "    * Arithmetic operators\n",
        "    * Comparison operators\n",
        "    * Logical operators"
      ]
    },
    {
      "cell_type": "markdown",
      "metadata": {
        "id": "3LmqMZyd806J"
      },
      "source": [
        "# <font color=\"red\">I. Crash Course in Google Colab"
      ]
    },
    {
      "cell_type": "markdown",
      "source": [
        "[Source: Official Google Colab Documentation](https://colab.research.google.com/notebooks/basic_features_overview.ipynb#scrollTo=KR921S_OQSHG)"
      ],
      "metadata": {
        "id": "_IXJA1c_A0L9"
      }
    },
    {
      "cell_type": "markdown",
      "source": [
        "# Cells\n",
        "A notebook is a list of cells. Cells contain either explanatory text or executable code and its output. Click a cell to select it."
      ],
      "metadata": {
        "id": "wkaolW5uAFwL"
      }
    },
    {
      "cell_type": "markdown",
      "metadata": {
        "id": "ou9n4swR806J"
      },
      "source": [
        "## Code cells\n",
        "Below is a **code cell**. Once the toolbar button indicates CONNECTED, click in the cell to select it and execute the contents in the following ways:\n",
        "\n",
        "* Click the **Play icon** in the left gutter of the cell;\n",
        "* Type **Cmd/Ctrl+Enter** to run the cell in place;\n",
        "* Type **Shift+Enter** to run the cell and move focus to the next cell (adding one if none exists); or\n",
        "* Type **Alt+Enter** to run the cell and insert a new code cell immediately below it.\n",
        "\n",
        "There are additional options for running some or all cells in the **Runtime** menu."
      ]
    },
    {
      "cell_type": "code",
      "source": [
        "a = 10\n",
        "a"
      ],
      "metadata": {
        "id": "-62qujdOBT9y",
        "colab": {
          "base_uri": "https://localhost:8080/"
        },
        "outputId": "2a0bf4f7-ed34-4815-df50-f1627aa880e8"
      },
      "execution_count": null,
      "outputs": [
        {
          "output_type": "execute_result",
          "data": {
            "text/plain": [
              "10"
            ]
          },
          "metadata": {},
          "execution_count": 1
        }
      ]
    },
    {
      "cell_type": "markdown",
      "source": [
        "## Text cells\n",
        "This is a **text cell**. You can **double-click** to edit this cell."
      ],
      "metadata": {
        "id": "qErOoUO6BIXb"
      }
    },
    {
      "cell_type": "markdown",
      "metadata": {
        "id": "3OGkUIoT806P"
      },
      "source": [
        "# <font color=\"red\">II. Introduction to Python </font>"
      ]
    },
    {
      "cell_type": "markdown",
      "metadata": {
        "id": "qhl5htD0806P"
      },
      "source": [
        "\n",
        "## 2.1 Why Python?\n",
        "\n",
        "* Python is truly a scripting language; you can create projects end-to-end without leaving Python.\n",
        "* Python is open source; there are no hidden fees or extra software to download.\n",
        "* Python has an awesome online community that you can learn from and contribute to.\n",
        "* Software quality\n",
        "  * Python is designed to be readable, and hence maintainable.\n",
        "  * Python adopts minimalist approach.\n",
        "  * Python is deep support for software reuse mechanisms such as OO.\n",
        "* Developer productivity:\n",
        "  * Python code is typically 1/3 to 1/5 the size of equivalent C++ or JAVA code\n",
        "* Program portability:\n",
        "  * Most python programs run unchanged on all major computer platforms\n",
        "* Support Libraries\n",
        "* Component integration\n",
        "  * Python code can invoke C and C++ libraries, can be called from C and C++, can integrate with Java components.\tCan communicate over XML, Corba and .NET etc\n"
      ]
    },
    {
      "cell_type": "markdown",
      "metadata": {
        "id": "H0j_iA8g806R"
      },
      "source": [
        "# <font color=\"red\">III. Coding in Python </font>"
      ]
    },
    {
      "cell_type": "markdown",
      "metadata": {
        "id": "mIgdcFTU806R"
      },
      "source": [
        "## 3.1 Comments\n",
        "\n",
        "Python has commenting capability for the purpose of in-code documentation.<br>\n",
        "\n",
        "Comments start with a `#`, and Python will render the rest of the line as a comment. (Note: this is for when your cells are in Code format.) <br>\n",
        "\n",
        "Comments are ignored by the computer when the code is run. <br>\n",
        "\n",
        "These are useful for making notes on what portion of the code is doing and why is it doing it."
      ]
    },
    {
      "cell_type": "markdown",
      "metadata": {
        "id": "mUPDXkdn806R"
      },
      "source": [
        "### 3.1.1 Create a Comment\n",
        "Here's an example how you can create comments with `#`:"
      ]
    },
    {
      "cell_type": "code",
      "execution_count": null,
      "metadata": {
        "scrolled": true,
        "id": "t_VfTPOZ806R"
      },
      "outputs": [],
      "source": [
        "print('Hello Python Programmer!') # This is the print function. It is heavily used for marking checkpoints in functions."
      ]
    },
    {
      "cell_type": "code",
      "source": [],
      "metadata": {
        "id": "Vy6UtAYTHtBL"
      },
      "execution_count": null,
      "outputs": []
    },
    {
      "cell_type": "markdown",
      "metadata": {
        "id": "qUKaFm25806S"
      },
      "source": [
        "### 3.1.2 Multi Line Comments\n",
        "To add multi line comments in Python, you can insert a # for each line, or just add a multiline string (triple quotes) in your code, and place your comment inside it:"
      ]
    },
    {
      "cell_type": "code",
      "execution_count": null,
      "metadata": {
        "id": "GZd8G2HV806S"
      },
      "outputs": [],
      "source": [
        "\"\"\"\n",
        "This is a comment\n",
        "written in\n",
        "more than just one line\n",
        "\"\"\"\n",
        "print(\"Hello, World!\")"
      ]
    },
    {
      "cell_type": "markdown",
      "metadata": {
        "id": "a2jQoEE7806S"
      },
      "source": [
        "## 3.2 Variables\n",
        "\n",
        "\n",
        "**Variables** are used for storing and manipulating information. Their value can vary, which means that the value can change. You can store anything using a variable. They are given names that are used to access their values.\n",
        "\n",
        "Unlike other programming languages, Python has no command for declaring a variable.\n",
        "\n",
        "A variable is created the moment you first assign a value to it."
      ]
    },
    {
      "cell_type": "markdown",
      "metadata": {
        "id": "IDCZurKY806S"
      },
      "source": [
        "### 3.2.1 Variable naming rules\n",
        "* The first character of the name must be a letter of the alphabet or an underscore (A variable name cannot start with a number)\n",
        "* The rest of the name can be letters (upper or lower case), underscores, or digits 0-9\n",
        "* Variable names are case sensitive.\n",
        "    * For example, MYVARIABLE and myvariable are different.\n",
        "* Variable names cannot be a reserved word in Python.\n",
        "    * For example, __break__, __def__, or __for__ are not allowed.\n",
        "\n",
        "Create a variable by typing the name you'd like to use, then the = sign and the value you'd like to store. The syntax is:\n",
        "\n",
        "\n",
        "\n",
        "```\n",
        "my_profession = 'Data Scientist'\n",
        "my_number = 123456789\n",
        "```\n",
        "\n"
      ]
    },
    {
      "cell_type": "code",
      "execution_count": null,
      "metadata": {
        "id": "t5weEs0x806T"
      },
      "outputs": [],
      "source": [
        "myProfession = 'Data Scientist'\n"
      ]
    },
    {
      "cell_type": "code",
      "source": [
        "myProfession"
      ],
      "metadata": {
        "colab": {
          "base_uri": "https://localhost:8080/",
          "height": 35
        },
        "id": "uAE3Q-BXVOkL",
        "outputId": "723029c1-25fa-4532-fed7-3b4937b98699"
      },
      "execution_count": null,
      "outputs": [
        {
          "output_type": "execute_result",
          "data": {
            "text/plain": [
              "'Data Scientist'"
            ],
            "application/vnd.google.colaboratory.intrinsic+json": {
              "type": "string"
            }
          },
          "metadata": {},
          "execution_count": 3
        }
      ]
    },
    {
      "cell_type": "code",
      "source": [
        "myNumber = 123456789"
      ],
      "metadata": {
        "id": "BeppdQ-QVJWG"
      },
      "execution_count": null,
      "outputs": []
    },
    {
      "cell_type": "markdown",
      "metadata": {
        "id": "acmfPjXk806T"
      },
      "source": [
        "### 3.2.2 Declare a Variable\n",
        "You can access the value of a variable by the variable's name."
      ]
    },
    {
      "cell_type": "code",
      "execution_count": null,
      "metadata": {
        "id": "WWV7myCy806T"
      },
      "outputs": [],
      "source": [
        "myProfession"
      ]
    },
    {
      "cell_type": "markdown",
      "metadata": {
        "id": "Csw3GJuS806U"
      },
      "source": [
        "What happens if you try to access two different variables on two lines?"
      ]
    },
    {
      "cell_type": "code",
      "execution_count": null,
      "metadata": {
        "id": "jg2dmY_i806U",
        "colab": {
          "base_uri": "https://localhost:8080/",
          "height": 181
        },
        "outputId": "100ce22f-bd69-43a0-be32-753ebaa71120"
      },
      "outputs": [
        {
          "output_type": "error",
          "ename": "NameError",
          "evalue": "ignored",
          "traceback": [
            "\u001b[0;31m---------------------------------------------------------------------------\u001b[0m",
            "\u001b[0;31mNameError\u001b[0m                                 Traceback (most recent call last)",
            "\u001b[0;32m<ipython-input-2-1d062913f6b4>\u001b[0m in \u001b[0;36m<cell line: 1>\u001b[0;34m()\u001b[0m\n\u001b[0;32m----> 1\u001b[0;31m \u001b[0mmyProfession\u001b[0m\u001b[0;34m\u001b[0m\u001b[0;34m\u001b[0m\u001b[0m\n\u001b[0m\u001b[1;32m      2\u001b[0m \u001b[0mmyNumber\u001b[0m\u001b[0;34m\u001b[0m\u001b[0;34m\u001b[0m\u001b[0m\n",
            "\u001b[0;31mNameError\u001b[0m: name 'myProfession' is not defined"
          ]
        }
      ],
      "source": [
        "myProfession\n",
        "myNumber"
      ]
    },
    {
      "cell_type": "markdown",
      "metadata": {
        "id": "jdLp1sEL806U"
      },
      "source": [
        "To display more than one variable in the Output, we use the print function.\n",
        "\n",
        "\n",
        "\n",
        "<br>\n",
        "In Python we can use the __`print()`__ function to print a something to the screen. For example:\n",
        "\n",
        "__`print(my_profession)`__\n",
        "<br>\n",
        "__`print('My number is: ', my_number)`__"
      ]
    },
    {
      "cell_type": "code",
      "execution_count": null,
      "metadata": {
        "scrolled": true,
        "id": "JOn6zt-9806U"
      },
      "outputs": [],
      "source": [
        "print(myProfession)\n",
        "print('My number is: ', myNumber)\n",
        "print('My number is: ' + str(myNumber))"
      ]
    },
    {
      "cell_type": "code",
      "execution_count": null,
      "metadata": {
        "scrolled": true,
        "id": "DMDZIipE806V"
      },
      "outputs": [],
      "source": [
        "myNumber, myProfession"
      ]
    },
    {
      "cell_type": "markdown",
      "metadata": {
        "id": "UGpO7Mcr806V"
      },
      "source": [
        "## 3.3 Numbers\n",
        "\n",
        "There are three numeric types in Python:\n",
        "* **integer**: a whole number, positive or negative, without decimals, of unlimited length\n",
        "* **floating point number**: a number, positive or negative, containing one or more decimals. Float can also be scientific numbers with an \"e\" to indicate the power of 10.\n",
        "* **complex**: Complex numbers are written with a \"j\" as the imaginary part <br>\n",
        "\n",
        "Here are some examples in Python:"
      ]
    },
    {
      "cell_type": "code",
      "execution_count": null,
      "metadata": {
        "id": "4Rpr9_lq806V"
      },
      "outputs": [],
      "source": [
        "x = 1    # int\n",
        "y = 2.8  # float\n",
        "yy = 35e3  # float\n",
        "z = 1j   # complex"
      ]
    },
    {
      "cell_type": "code",
      "execution_count": null,
      "metadata": {
        "id": "it_L-msV806V"
      },
      "outputs": [],
      "source": [
        "print(type(x))\n",
        "print(type(y))\n",
        "print(type(yy))\n",
        "print(type(z))"
      ]
    },
    {
      "cell_type": "markdown",
      "metadata": {
        "id": "MlVgdgb4806W"
      },
      "source": [
        "You can convert between a float and an integer using a built-in Python function.\n",
        "\n",
        "To change a float to an integer use the syntax: __`int(3.8)`__"
      ]
    },
    {
      "cell_type": "code",
      "execution_count": null,
      "metadata": {
        "id": "gCFRPW6n806W"
      },
      "outputs": [],
      "source": [
        "#convert from int to float:\n",
        "a = float(x)\n",
        "\n",
        "#convert from float to int:\n",
        "b = int(y)\n",
        "\n",
        "#convert from int to complex:\n",
        "c = complex(x)\n",
        "\n",
        "print(a)\n",
        "print(b)\n",
        "print(c)"
      ]
    },
    {
      "cell_type": "markdown",
      "metadata": {
        "id": "1rtGy8T3806W"
      },
      "source": [
        "<font color=\"green\">**Q: Does the int() function round up or round down? Why do you think it does or it doesn't round?**</font>"
      ]
    },
    {
      "cell_type": "markdown",
      "source": [
        "Please enter your answer below:\n",
        "\n",
        "\n",
        "\n"
      ],
      "metadata": {
        "id": "9C8pD_QpJNTh"
      }
    },
    {
      "cell_type": "code",
      "execution_count": null,
      "metadata": {
        "id": "q4oVSaWY806X",
        "colab": {
          "base_uri": "https://localhost:8080/"
        },
        "outputId": "696c91af-28df-42ed-dc37-7985496fedec"
      },
      "outputs": [
        {
          "output_type": "execute_result",
          "data": {
            "text/plain": [
              "8"
            ]
          },
          "metadata": {},
          "execution_count": 4
        }
      ],
      "source": [
        "# example with int()\n"
      ]
    },
    {
      "cell_type": "markdown",
      "source": [
        "Round function in Python3 rounds a number to the nearest integer."
      ],
      "metadata": {
        "id": "Clia_ur8WOn5"
      }
    },
    {
      "cell_type": "code",
      "source": [
        "round(2.4)"
      ],
      "metadata": {
        "colab": {
          "base_uri": "https://localhost:8080/"
        },
        "id": "4aqpp0cHWebx",
        "outputId": "960793c2-2bcc-4b2c-eecc-d023ecf273b1"
      },
      "execution_count": null,
      "outputs": [
        {
          "output_type": "execute_result",
          "data": {
            "text/plain": [
              "2"
            ]
          },
          "metadata": {},
          "execution_count": 4
        }
      ]
    },
    {
      "cell_type": "code",
      "source": [
        "round(2.7)"
      ],
      "metadata": {
        "colab": {
          "base_uri": "https://localhost:8080/"
        },
        "id": "ZJ_93P0uWhUk",
        "outputId": "b039a48e-21ea-418a-cb45-129cd7cc4cc9"
      },
      "execution_count": null,
      "outputs": [
        {
          "output_type": "execute_result",
          "data": {
            "text/plain": [
              "3"
            ]
          },
          "metadata": {},
          "execution_count": 5
        }
      ]
    },
    {
      "cell_type": "markdown",
      "metadata": {
        "id": "c0SJt6kN806X"
      },
      "source": [
        "## 3.4 Strings\n",
        "\n",
        "\n",
        "Strings are collections of alphabets, words or other characters."
      ]
    },
    {
      "cell_type": "markdown",
      "metadata": {
        "id": "CGb2Pev_806X"
      },
      "source": [
        "### 3.4.1 Notations for Strings\n",
        "\n",
        "There are four notations for strings:\n",
        "* __Single Quote__ notation: `'this is a string'`\n",
        "* __Double Quote__ notation: `\"this is a string\"`\n",
        "* __Triple Quotes__ notation: `'''this is also a string'''`\n",
        "* __Triple Double Quotes__ notation: `\"\"\"this is also a string\"\"\"`\n",
        "\n",
        "You can nest different types of quotes within strings, but you have to start and end a string with the same type of quote!"
      ]
    },
    {
      "cell_type": "code",
      "execution_count": null,
      "metadata": {
        "id": "GCdqO4yJ806X"
      },
      "outputs": [],
      "source": [
        "text = '''This is a multi-line string,\n",
        "which continues on as many lines as you need.\n",
        "\n",
        "You can even add other strings inside:\n",
        "\"This is a double quote string\"\n",
        "'And this is a single quote string'.\n",
        "'''\n",
        "\n",
        "print(text)"
      ]
    },
    {
      "cell_type": "markdown",
      "metadata": {
        "id": "7qqpu4dQ806X"
      },
      "source": [
        "Usually single or double quotes are used for shorter strings, while triple quotes are used for multi-line strings, but this is just a convention."
      ]
    },
    {
      "cell_type": "markdown",
      "metadata": {
        "id": "oAWrLnCK806Y"
      },
      "source": [
        "#### <font color=\"green\"> Exercise: Create your own strings below - be sure to use each type of quote: </font>"
      ]
    },
    {
      "cell_type": "code",
      "execution_count": null,
      "metadata": {
        "id": "zSE49eRX806Y"
      },
      "outputs": [],
      "source": [
        "'First string - single quote'"
      ]
    },
    {
      "cell_type": "code",
      "execution_count": null,
      "metadata": {
        "id": "98f2om9V806Y"
      },
      "outputs": [],
      "source": [
        "\"Second string - double quote\""
      ]
    },
    {
      "cell_type": "code",
      "execution_count": null,
      "metadata": {
        "id": "9CLMchaH806Y"
      },
      "outputs": [],
      "source": [
        "'''Third string - triple quote'''"
      ]
    },
    {
      "cell_type": "markdown",
      "metadata": {
        "id": "CVV6Xp8g806Y"
      },
      "source": [
        "#### <font color=\"green\"> Q: When would you use both single quotes & double quotes in the same string? Give an example below.</font>"
      ]
    },
    {
      "cell_type": "code",
      "execution_count": null,
      "metadata": {
        "id": "JX-D2rr9806Z"
      },
      "outputs": [],
      "source": [
        "'A string that includes \"double quote\" in the line'"
      ]
    },
    {
      "cell_type": "markdown",
      "metadata": {
        "id": "YiFyA1nJ806Z"
      },
      "source": [
        "### 3.4.2 Manipulations for Strings\n",
        "There are several helpful, built-in manipulations for strings. For example:"
      ]
    },
    {
      "cell_type": "code",
      "execution_count": null,
      "metadata": {
        "id": "3LmgOscY806Z"
      },
      "outputs": [],
      "source": [
        "my_str = 'Practice takes time & time is spent best in practice.'"
      ]
    },
    {
      "cell_type": "code",
      "execution_count": null,
      "metadata": {
        "id": "sEeHReBG806Z"
      },
      "outputs": [],
      "source": [
        "my_str"
      ]
    },
    {
      "cell_type": "markdown",
      "metadata": {
        "id": "M_tSjnKT806Z"
      },
      "source": [
        "You can make a string all uppercase using the method upper like this: __`my_str.upper()`__ <br>\n",
        "**Challenge:** When & why do you think we will need to use this method?"
      ]
    },
    {
      "cell_type": "code",
      "execution_count": null,
      "metadata": {
        "id": "rwOoMGpn806a"
      },
      "outputs": [],
      "source": [
        "my_str.upper() # this makes everything be uppercased & only works with strings."
      ]
    },
    {
      "cell_type": "markdown",
      "metadata": {
        "id": "z6832_cF806a"
      },
      "source": [
        "You can make a string all lowercase using the method lower like this: __`my_str.lower()`__ <br>\n",
        "**Challenge:** When & why do you think we will need to use this method?"
      ]
    },
    {
      "cell_type": "code",
      "execution_count": null,
      "metadata": {
        "scrolled": true,
        "id": "KPBLGwz4806a"
      },
      "outputs": [],
      "source": [
        "my_str.lower()"
      ]
    },
    {
      "cell_type": "markdown",
      "metadata": {
        "id": "myGhhlwC806a"
      },
      "source": [
        "We can also use slicing methods to extract a single letter of a string. <br>\n",
        "\n",
        "You can slice a string using the index of the letters. <br>\n",
        "\n",
        "The first letter is index 0. **This is because the first index in Python is always 0.**<br>\n",
        "\n",
        "For example, to get the first letter of our string we should code out: <br>\n",
        "__`my_str[0]`__"
      ]
    },
    {
      "cell_type": "code",
      "execution_count": null,
      "metadata": {
        "id": "c1N5pBWw806a"
      },
      "outputs": [],
      "source": [
        "my_str[0], my_str[1], my_str[2]"
      ]
    },
    {
      "cell_type": "markdown",
      "metadata": {
        "id": "yRqexlLK806b"
      },
      "source": [
        "We can also index from the end of the string by using a negative index. <br>\n",
        "For example, to get the last letter of our string we can use: <br>\n",
        "__`my_str[-1]`__"
      ]
    },
    {
      "cell_type": "code",
      "execution_count": null,
      "metadata": {
        "id": "s5GI_Pqr806b"
      },
      "outputs": [],
      "source": [
        "my_str[-1], my_str[-2], my_str[-3]"
      ]
    },
    {
      "cell_type": "markdown",
      "metadata": {
        "id": "FOE0Qekj806b"
      },
      "source": [
        "Slicing will also allow us to extract a subsequence from the string. The syntax is: <br>\n",
        "__`my_str[i:j]`__ where i is the starting index and j is the ending index. <p>\n",
        "\n",
        "**In Python the lower bound is included, but the upper bound is not included.** <br>\n",
        "For example, if we wanted the first four (4) letters of our string we could use the syntax: <br>\n",
        "__`my_str[0:4]`__"
      ]
    },
    {
      "cell_type": "code",
      "execution_count": null,
      "metadata": {
        "id": "ohGE4yoi806b"
      },
      "outputs": [],
      "source": [
        "my_str[0:4]"
      ]
    },
    {
      "cell_type": "markdown",
      "metadata": {
        "id": "WgfIPShn806c"
      },
      "source": [
        "Slicing can also use an extended syntax:\n",
        "\n",
        "__`my_str[i:j:k]`__ where<br>\n",
        "* **i** is the starting index\n",
        "* **j** is the ending index\n",
        "* **k** is the stride or the step between indices (default is 1)\n",
        "\n",
        "For example, if we wanted every other letter (k = 2) of the first (i = 0) 6 characters (j = 7) we could use:\n",
        "\n",
        "__`my_str[0:7:2]`__"
      ]
    },
    {
      "cell_type": "code",
      "execution_count": null,
      "metadata": {
        "scrolled": true,
        "id": "qm5CFcfR806c"
      },
      "outputs": [],
      "source": [
        "my_str[0:7:2]"
      ]
    },
    {
      "cell_type": "markdown",
      "metadata": {
        "id": "nP-SIyZ1806c"
      },
      "source": [
        "**Slicing doesn't require a start or an end index.** <br>\n",
        "\n",
        "Leaving off the starting index is equivalent to specifing the first index, 0. In other words, **the default for i is 0.** <br>\n",
        "\n",
        "Leaving off the ending index is equivalent to the index of the last character. In other words, **the default for j is the number of characters + 1, n + 1.** <p>\n",
        "    \n",
        "For example, we can slice the first (i = 0 or empty) 4 characters (j = 5) with the syntax: <br>\n",
        "__`my_str[:5]`__"
      ]
    },
    {
      "cell_type": "code",
      "execution_count": null,
      "metadata": {
        "id": "vSzZ_dPI806d"
      },
      "outputs": [],
      "source": [
        "my_str[:5]"
      ]
    },
    {
      "cell_type": "markdown",
      "metadata": {
        "id": "m6RnZ-TC806d"
      },
      "source": [
        "Or we can slice the characters from index 5 (i = 5) to the end of the string (j = n or empty) with the syntax: <br>\n",
        "__`my_str[5:]`__"
      ]
    },
    {
      "cell_type": "code",
      "execution_count": null,
      "metadata": {
        "id": "B2prhRGz806d"
      },
      "outputs": [],
      "source": [
        "my_str[5:]"
      ]
    },
    {
      "cell_type": "markdown",
      "metadata": {
        "id": "jCw-HVJS806d"
      },
      "source": [
        "We could get every other character (k = 2) for the entire string (i & j are empty) with the syntax: <br>\n",
        "__`my_str[::2]`__"
      ]
    },
    {
      "cell_type": "code",
      "execution_count": null,
      "metadata": {
        "id": "ZKpSzS69806d"
      },
      "outputs": [],
      "source": [
        "my_str[::2]"
      ]
    },
    {
      "cell_type": "markdown",
      "metadata": {
        "id": "SrV1D5kx806e"
      },
      "source": [
        "Or we could use -1 as the step in the extended syntax to get the string (i & j are empty) in reversed order (k = -1): <br> __`my_str[::-1]`__"
      ]
    },
    {
      "cell_type": "code",
      "execution_count": null,
      "metadata": {
        "id": "5-rF2P0F806e"
      },
      "outputs": [],
      "source": [
        "my_str[::-1]"
      ]
    },
    {
      "cell_type": "markdown",
      "metadata": {
        "id": "bWMDJ3v6806e"
      },
      "source": [
        "You can get the count of how many elements are in the string by checking the length:<br>\n",
        "**`len(my_str)`**"
      ]
    },
    {
      "cell_type": "code",
      "execution_count": null,
      "metadata": {
        "id": "71z2sBCj806e",
        "colab": {
          "base_uri": "https://localhost:8080/",
          "height": 35
        },
        "outputId": "f04b521f-9c57-4404-d4be-bc519a1cacb4"
      },
      "outputs": [
        {
          "output_type": "execute_result",
          "data": {
            "text/plain": [
              "'o  '"
            ],
            "application/vnd.google.colaboratory.intrinsic+json": {
              "type": "string"
            }
          },
          "metadata": {},
          "execution_count": 5
        }
      ],
      "source": [
        "my_str=\"hello   world\"\n",
        "len(my_str)\n",
        "my_str[4:7]"
      ]
    },
    {
      "cell_type": "markdown",
      "metadata": {
        "id": "iVXJGq0p806f"
      },
      "source": [
        "## 3.6  Operators\n",
        "\n",
        "**Operators** are special symbols in Python that carry out arithmetic or logical computation. The value that the operator operates on is called the **operand**."
      ]
    },
    {
      "cell_type": "markdown",
      "metadata": {
        "id": "6lGd-mAZ806f"
      },
      "source": [
        "### 3.6.1 Arithmetic operators\n",
        "Arithmetic operators are used to perform mathematical operations like addition, subtraction, multiplication etc.<br>\n",
        "\n",
        "* `+`: Add two operands or unary plus\n",
        "* `-`: Subtract right operand from the left or unary minus\n",
        "* `*`: Multiply two operands\n",
        "* `/`: Divide left operand by the right one (always results into float)\n",
        "* `%`: Modulus - remainder of the division of left operand by the right\n",
        "* `//`: Floor division - division that results into whole number adjusted to the left in the number line\n",
        "* `**`: Exponent - left operand raised to the power of right"
      ]
    },
    {
      "cell_type": "code",
      "execution_count": null,
      "metadata": {
        "id": "WwjZz3c5806f"
      },
      "outputs": [],
      "source": [
        "x = 15\n",
        "y = 4\n",
        "\n",
        "print('x + y =',x+y)\n",
        "print('x - y =',x-y)\n",
        "print('x * y =',x*y)\n",
        "print('x / y =',x/y)\n",
        "print('x // y =',x//y)\n",
        "print('x ** y =',x**y)"
      ]
    },
    {
      "cell_type": "code",
      "source": [
        "x=8\n",
        "y=7\n",
        "x*y"
      ],
      "metadata": {
        "colab": {
          "base_uri": "https://localhost:8080/"
        },
        "id": "6ObCOLHYBWx-",
        "outputId": "9ac49c08-072d-495b-bde5-bc15ead1faa4"
      },
      "execution_count": null,
      "outputs": [
        {
          "output_type": "execute_result",
          "data": {
            "text/plain": [
              "56"
            ]
          },
          "metadata": {},
          "execution_count": 6
        }
      ]
    },
    {
      "cell_type": "markdown",
      "metadata": {
        "id": "Jkg8_tcm806g"
      },
      "source": [
        "#### <font color=\"green\">Exercises: Let's convert a temperature from fahrenheit to celcius. (Subtract 32 from the temperature, multiply by 5, then divide by 9.) Let's find the celcius temperature for 100 fahrenheit</font>"
      ]
    },
    {
      "cell_type": "code",
      "execution_count": null,
      "metadata": {
        "id": "vclMoPbT806g",
        "colab": {
          "base_uri": "https://localhost:8080/"
        },
        "outputId": "b004e8d8-072d-4732-d6b3-97fc55cdc8fd"
      },
      "outputs": [
        {
          "output_type": "stream",
          "name": "stdout",
          "text": [
            "the C equivalent is 37.77777777777778\n"
          ]
        }
      ],
      "source": [
        "current_fahrenheit = 100\n",
        "celcius = (current_fahrenheit-32)*5/9\n",
        "print(\"the C equivalent is\",celcius)"
      ]
    },
    {
      "cell_type": "markdown",
      "metadata": {
        "id": "8N88idXG806g"
      },
      "source": [
        "#### <font color=\"green\">Exercises: We have 25 cookies and 7 friends at our party. If we wanted to give each friend 3 cookies how many cookies would we have left? (Use the modulo operator for this question)</font>"
      ]
    },
    {
      "cell_type": "code",
      "execution_count": null,
      "metadata": {
        "id": "ZexIe_h-806g"
      },
      "outputs": [],
      "source": []
    },
    {
      "cell_type": "markdown",
      "metadata": {
        "id": "sLAcD2pL806g"
      },
      "source": [
        "### 3.6.2 Comparison operators\n",
        "Comparison operators are used to compare values. It either returns True or False according to the condition.<br>\n",
        "\n",
        "* `>`: Greater that - True if left operand is greater than the right\n",
        "* `<`: Less that - True if left operand is less than the right\n",
        "* `==`: Equal to - True if both operands are equal\n",
        "* `!=`: Not equal to - True if operands are not equal\n",
        "* `>=`: Greater than or equal to - True if left operand is greater than or equal to the right\n",
        "* `<=`: Less than or equal to - True if left operand is less than or equal to the right"
      ]
    },
    {
      "cell_type": "code",
      "execution_count": null,
      "metadata": {
        "id": "O-m_SYGQ806g",
        "colab": {
          "base_uri": "https://localhost:8080/"
        },
        "outputId": "7a8aa1b2-923b-4de1-b106-709647f68b32"
      },
      "outputs": [
        {
          "output_type": "stream",
          "name": "stdout",
          "text": [
            "x > y  is False\n",
            "x < y  is True\n",
            "x == y is False\n",
            "x != y is True\n",
            "x >= y is False\n",
            "x <= y is True\n"
          ]
        }
      ],
      "source": [
        "x = 10\n",
        "y = 12\n",
        "# Output: x > y is False\n",
        "print('x > y  is',x>y)\n",
        "# Output: x < y is True\n",
        "print('x < y  is',x<y)\n",
        "# Output: x == y is False\n",
        "print('x == y is',x==y)\n",
        "# Output: x != y is True\n",
        "print('x != y is',x!=y)\n",
        "# Output: x >= y is False\n",
        "print('x >= y is',x>=y)\n",
        "# Output: x <= y is True\n",
        "print('x <= y is',x<=y)"
      ]
    },
    {
      "cell_type": "markdown",
      "metadata": {
        "id": "lNr_2DZt806h"
      },
      "source": [
        "### 3.6.3 Logic operators\n",
        "Logical operators are the and, or, not operators.<br>\n",
        "\n",
        "* `and`: True if both the operands are true\n",
        "* `or`: True if either of the operands is true\n",
        "* `not`: True if operand is false (complements the operand)"
      ]
    },
    {
      "cell_type": "code",
      "execution_count": null,
      "metadata": {
        "id": "aB6gdg_L806h",
        "colab": {
          "base_uri": "https://localhost:8080/"
        },
        "outputId": "8edae61d-fbe8-43a6-a655-aaf89ca15a3f"
      },
      "outputs": [
        {
          "output_type": "stream",
          "name": "stdout",
          "text": [
            "x and y is False\n",
            "x or y is True\n",
            "not x is False\n"
          ]
        }
      ],
      "source": [
        "x = True\n",
        "y = False\n",
        "# Output: x and y is False\n",
        "print('x and y is',x and y)\n",
        "# Output: x or y is True\n",
        "print('x or y is',x or y)\n",
        "# Output: not x is False\n",
        "print('not x is',not x)"
      ]
    },
    {
      "cell_type": "code",
      "execution_count": null,
      "metadata": {
        "id": "f7FmETve806h",
        "colab": {
          "base_uri": "https://localhost:8080/"
        },
        "outputId": "f2c65409-0faf-41df-fd77-026b15a564b5"
      },
      "outputs": [
        {
          "output_type": "stream",
          "name": "stdout",
          "text": [
            "True\n",
            "True\n"
          ]
        }
      ],
      "source": [
        "a = 1\n",
        "b = 2\n",
        "c = 3\n",
        "print((a < b) & (a < c))\n",
        "print((a < b) and (a < c))"
      ]
    }
  ],
  "metadata": {
    "anaconda-cloud": {},
    "kernelspec": {
      "display_name": "Python 3",
      "language": "python",
      "name": "python3"
    },
    "language_info": {
      "codemirror_mode": {
        "name": "ipython",
        "version": 3
      },
      "file_extension": ".py",
      "mimetype": "text/x-python",
      "name": "python",
      "nbconvert_exporter": "python",
      "pygments_lexer": "ipython3",
      "version": "3.7.3"
    },
    "colab": {
      "provenance": [],
      "include_colab_link": true
    }
  },
  "nbformat": 4,
  "nbformat_minor": 0
}