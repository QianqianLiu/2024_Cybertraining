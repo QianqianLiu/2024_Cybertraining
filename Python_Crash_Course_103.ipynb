{
  "cells": [
    {
      "cell_type": "markdown",
      "metadata": {
        "id": "view-in-github",
        "colab_type": "text"
      },
      "source": [
        "<a href=\"https://colab.research.google.com/github/QianqianLiu/2024_Cybertraining/blob/main/Python_Crash_Course_103.ipynb\" target=\"_parent\"><img src=\"https://colab.research.google.com/assets/colab-badge.svg\" alt=\"Open In Colab\"/></a>"
      ]
    },
    {
      "cell_type": "markdown",
      "metadata": {
        "id": "u-YX0nul8wkJ"
      },
      "source": [
        "Python Crash Course 103: Introduction to Functions in Python\n",
        "\n",
        " This notebook is based on [Python Crash Course Book](http://ehmatthes.github.io/pcc/cheatsheets/README.html) by [Eric Matthes](https://github.com/ehmatthes) which is free through [UNCW library](https://libcat.uncw.edu/search~S4?/X(python+crash+course)&searchscope=4&SORT=D&m=a&m=c&m=h&b=wg&b=wj&b=wr&b=wf&b=wh&b=wb&b=wc&b=we&b=wi&b=wl&b=wn&b=ws&b=wu&b=wv&b=eb/X(python+crash+course)&searchscope=4&SORT=D&m=a&m=c&m=h&b=wg&b=wj&b=wr&b=wf&b=wh&b=wb&b=wc&b=we&b=wi&b=wl&b=wn&b=ws&b=wu&b=wv&b=eb&SUBKEY=(python+crash+course)/1%2C4%2C4%2CB/frameset&FF=X(python+crash+course)&searchscope=4&SORT=D&m=a&m=c&m=h&b=wg&b=wj&b=wr&b=wf&b=wh&b=wb&b=wc&b=we&b=wi&b=wl&b=wn&b=ws&b=wu&b=wv&b=eb&1%2C1%2C)"
      ]
    },
    {
      "cell_type": "markdown",
      "metadata": {
        "id": "3_v8tzpM8wkN"
      },
      "source": [
        "# <font color=\"blue\">Table of Contents</font>\n",
        "\n",
        "## Introduction to Functions in Python\n",
        "\n",
        "## User-Defined Functions\n",
        "* Define a Function\n",
        "* Call a Python function\n",
        "* Function parameters\n",
        "* Return statement\n",
        "* Scope and Lifetime of a Variable in Python\n",
        "\n"
      ]
    },
    {
      "cell_type": "markdown",
      "metadata": {
        "id": "5kuBvNpj8wkN"
      },
      "source": [
        "# <font color=\"red\">I. Introduction to Functions in Python </font>"
      ]
    },
    {
      "cell_type": "markdown",
      "metadata": {
        "id": "U7QfWf-v8wkN"
      },
      "source": [
        "\n",
        "Functions are reusable blocks of statements with a name, allowing you to run that block anywhere within your program any number of times.\n",
        "\n",
        "When called, those statements are executed. So we don’t have to write the code again and again for each type of data that we want to apply it to. This is called code re-usability."
      ]
    },
    {
      "cell_type": "markdown",
      "metadata": {
        "id": "I3dHE2jj8wkO"
      },
      "source": [
        "# <font color=\"red\">II. User-Defined Functions </font>"
      ]
    },
    {
      "cell_type": "markdown",
      "metadata": {
        "id": "Jkjq75bC8wkO"
      },
      "source": [
        "## 2.1 Define a Function\n",
        "To define your own Python function, you use the ‘def’ keyword before its name. And its name is to be followed by parentheses, before a colon(:).\n",
        "\n",
        "__`def function_name(arguments):\n",
        "    block of code`__\n",
        "    \n",
        "The contents inside the body of the function must be equally indented. **Code for a function should be indented with 4 spaces.** <br>\n",
        "\n",
        "Code that isn't indented will not be run as part of that function.\n",
        "\n",
        "* __Rules for naming a Python function:__\n",
        "    * It can begin with either of the following: A-Z, a-z, and underscore(_).\n",
        "    * The rest of it can contain either of the following: A-Z, a-z, digits(0-9), and underscore(_).\n",
        "    * A reserved keyword may not be chosen as an identifier."
      ]
    },
    {
      "cell_type": "code",
      "execution_count": null,
      "metadata": {
        "id": "1aUeJMel8wkP"
      },
      "outputs": [],
      "source": [
        "def hello():\n",
        "    print('Hello Data Scientist!')"
      ]
    },
    {
      "cell_type": "markdown",
      "metadata": {
        "id": "63HrLhA58wkQ"
      },
      "source": [
        "## 2.2 Call a Python Function\n",
        "To use a function you need to call it. To call a Python function at a place in your code, you simply need to name it, and pass arguments, if any.\n",
        "\n",
        "The syntax is:\n",
        "\n",
        "__`function_name(arguments)`__"
      ]
    },
    {
      "cell_type": "code",
      "execution_count": null,
      "metadata": {
        "id": "QTQlghXW8wkQ"
      },
      "outputs": [],
      "source": [
        "hello()"
      ]
    },
    {
      "cell_type": "markdown",
      "metadata": {
        "id": "bs9WAlKw8wkR"
      },
      "source": [
        "## 2.3 Function Parameters / Arguments\n",
        "Sometimes, you may want a function to operate on some variables, and produce a result. Such a function may take any number of parameters.\n",
        "\n",
        "We can also make default values for function arguments, in case you want a parameter to be optional. <br>\n",
        "\n",
        "For example:\n",
        "\n",
        "__`def my_print(to_print = 'Hello data scientist'):\n",
        "    print(to_print)`__\n",
        "    \n",
        "Now if we call the function without an argument it will automatically print \"Hello data scientist\". Or we can pass in a parameter to override the default.\n",
        "\n",
        "__`my_print()`__\n",
        "This will print 'Hello data scientist'\n",
        "\n",
        "__`my_print('Hello again!')`__\n",
        "This will print 'Hello again!"
      ]
    },
    {
      "cell_type": "code",
      "execution_count": null,
      "metadata": {
        "id": "00ifhIHH8wkR"
      },
      "outputs": [],
      "source": [
        "def my_print(to_print):\n",
        "    print(to_print)\n",
        "\n",
        "message = 'Our new message'\n",
        "my_print(message)"
      ]
    },
    {
      "cell_type": "code",
      "execution_count": null,
      "metadata": {
        "id": "QsDXBNgs8wkR"
      },
      "outputs": [],
      "source": [
        "def my_print(to_print = 'Hello data scientis'):\n",
        "    print(to_print)\n",
        "\n",
        "my_print()\n",
        "my_print('Hello again!')"
      ]
    },
    {
      "cell_type": "markdown",
      "metadata": {
        "id": "jBIehFl18wkS"
      },
      "source": [
        "## 2.4 Return Statement\n",
        "A Python function may optionally return a value. This value can be a result that it produced on its execution. Or it can be something you specify- an expression or a value.\n",
        "\n",
        "As soon as a return statement is reached in a function, the function stops executing. Then, the next statement after the function call is executed."
      ]
    },
    {
      "cell_type": "code",
      "execution_count": null,
      "metadata": {
        "id": "Z5NkGfoQ8wkS"
      },
      "outputs": [],
      "source": [
        "def sum_it(a, b):\n",
        "    return a + b\n",
        "the_answer = sum_it(4, 5)\n",
        "print(the_answer)"
      ]
    },
    {
      "cell_type": "markdown",
      "metadata": {
        "id": "dwn47GS_8wkS"
      },
      "source": [
        "## 2.5 Scope and Lifetime of a Variable in Python\n",
        "A variable isn’t visible everywhere and alive every time. We study this in functions because the scope and lifetime for a variable depend on whether it is inside a function.\n",
        "\n",
        "* A variable’s scope tells us where in the program it is visible. A variable may have local or global scope.\n",
        "* A variable’s lifetime is the period of time for which it resides in the memory."
      ]
    },
    {
      "cell_type": "code",
      "execution_count": null,
      "metadata": {
        "id": "sTxbpXlD8wkT"
      },
      "outputs": [],
      "source": [
        "# This is the outermost space for our code statements. This is the global space.\n",
        "# So any variable defined here would be available to any nested statements.\n",
        "message1 = \"I'm from the outside!\"\n",
        "\n",
        "def print_message():\n",
        "    message2 = \"I'm from the inside!\"\n",
        "    print(message1)\n",
        "    print(message2)\n",
        "\n",
        "print_message()\n",
        "print(message1)\n",
        "print(message2)"
      ]
    },
    {
      "cell_type": "markdown",
      "metadata": {
        "id": "2mnOqYtD8wkT"
      },
      "source": [
        "As we can see, there is an error when we run the above cell.<br>\n",
        "\n",
        "This is because the variable message2 was local to the function, so we couldn't access it when we tried to print it out of the function. <br>\n",
        "\n",
        "When working with functions, loops, and if/else statements you need to keep this scope in mind.\n",
        "\n",
        "We can give a variable global scope so that it can be accessed anywhere in the program using the syntax below.\n",
        "\n",
        "\n",
        "When we run these print statements we don't get an error."
      ]
    },
    {
      "cell_type": "code",
      "execution_count": null,
      "metadata": {
        "id": "7_5g071b8wkU"
      },
      "outputs": [],
      "source": [
        "message1 = \"I'm from the outside!\"\n",
        "def print_message():\n",
        "    global message2\n",
        "    message2 = \"I'm from the inside!\"\n",
        "    print(message1)\n",
        "    print(message2)\n",
        "\n",
        "print_message()\n",
        "print(message1)\n",
        "print(message2)"
      ]
    },
    {
      "cell_type": "markdown",
      "metadata": {
        "id": "wKvK1cRK8wkU"
      },
      "source": [
        "__Note__: Using global statements is not considered best practice because it's harder to find where a variable is defined. <br>\n",
        "This example is just to help you learn about scope."
      ]
    },
    {
      "cell_type": "markdown",
      "source": [
        "## 2.6 Functions with multiple parameters"
      ],
      "metadata": {
        "id": "cfxA8hmlnWYb"
      }
    },
    {
      "cell_type": "code",
      "source": [
        "def multiply_values(x,y):\n",
        "    z = x * y\n",
        "    return z\n",
        "\n",
        "multiply_values(5,2)"
      ],
      "metadata": {
        "colab": {
          "base_uri": "https://localhost:8080/"
        },
        "id": "CpWP3VOKn7UU",
        "outputId": "a7fe1939-c495-43d9-d8bd-9d7567fa0cd4"
      },
      "execution_count": null,
      "outputs": [
        {
          "output_type": "execute_result",
          "data": {
            "text/plain": [
              "10"
            ]
          },
          "metadata": {},
          "execution_count": 2
        }
      ]
    },
    {
      "cell_type": "markdown",
      "source": [
        "Parameters can have default values"
      ],
      "metadata": {
        "id": "ehNVe0BVqWCj"
      }
    },
    {
      "cell_type": "code",
      "source": [
        "def multiply_values(x=3,y=2):\n",
        "    z = x * y\n",
        "    return z\n",
        "\n",
        "multiply_values()"
      ],
      "metadata": {
        "colab": {
          "base_uri": "https://localhost:8080/"
        },
        "id": "5KKEzHjQqU3r",
        "outputId": "39137231-885a-4c91-ddcb-c25252024dae"
      },
      "execution_count": null,
      "outputs": [
        {
          "output_type": "execute_result",
          "data": {
            "text/plain": [
              "6"
            ]
          },
          "metadata": {},
          "execution_count": 4
        }
      ]
    },
    {
      "cell_type": "code",
      "source": [
        "def multiply_values(x,y=2):\n",
        "    z = x * y\n",
        "    return z\n",
        "\n",
        "multiply_values(5)"
      ],
      "metadata": {
        "colab": {
          "base_uri": "https://localhost:8080/"
        },
        "id": "qz1ug-cMrNy9",
        "outputId": "1bb8e451-55b8-4bc0-c142-09379fec5f1a"
      },
      "execution_count": null,
      "outputs": [
        {
          "output_type": "execute_result",
          "data": {
            "text/plain": [
              "10"
            ]
          },
          "metadata": {},
          "execution_count": 5
        }
      ]
    },
    {
      "cell_type": "code",
      "source": [
        "def multiply_values(x=3,y):\n",
        "    z = x * y\n",
        "    return z\n",
        "\n",
        "multiply_values(5)"
      ],
      "metadata": {
        "colab": {
          "base_uri": "https://localhost:8080/",
          "height": 130
        },
        "id": "mDUJMm4yrRzg",
        "outputId": "3928a356-e819-47de-d289-2052215ac474"
      },
      "execution_count": null,
      "outputs": [
        {
          "output_type": "error",
          "ename": "SyntaxError",
          "evalue": "ignored",
          "traceback": [
            "\u001b[0;36m  File \u001b[0;32m\"<ipython-input-6-c41221447d2e>\"\u001b[0;36m, line \u001b[0;32m1\u001b[0m\n\u001b[0;31m    def multiply_values(x=3,y):\u001b[0m\n\u001b[0m                            ^\u001b[0m\n\u001b[0;31mSyntaxError\u001b[0m\u001b[0;31m:\u001b[0m non-default argument follows default argument\n"
          ]
        }
      ]
    },
    {
      "cell_type": "markdown",
      "source": [
        "## 2.7 Built-in Functions\n",
        "\n",
        "Python has several built-in functions you can use such as abs(), max(), min(), len()."
      ],
      "metadata": {
        "id": "d8ak62PIqKub"
      }
    },
    {
      "cell_type": "code",
      "source": [
        "num = [11, 13, 12, 15, 14]\n",
        "print('Maximum is:', max(num))\n",
        "print('Minimum is:', min(num))"
      ],
      "metadata": {
        "id": "g3yGZHpcs6ry"
      },
      "execution_count": null,
      "outputs": []
    },
    {
      "cell_type": "markdown",
      "source": [
        "## 2.8 Function returning a tuple\n",
        "\n"
      ],
      "metadata": {
        "id": "2ujqHTpWytzJ"
      }
    },
    {
      "cell_type": "code",
      "source": [
        "def my_function(x,y):\n",
        "  return (x+y, x-y, x*y)\n",
        "\n",
        "tuple_result = my_function(15, 8)\n",
        "tuple_result"
      ],
      "metadata": {
        "colab": {
          "base_uri": "https://localhost:8080/"
        },
        "id": "pEYAltG1zt6M",
        "outputId": "f17b3b5b-2c55-4e75-fca9-f06c01d6e415"
      },
      "execution_count": null,
      "outputs": [
        {
          "output_type": "execute_result",
          "data": {
            "text/plain": [
              "(23, 7, 120)"
            ]
          },
          "metadata": {},
          "execution_count": 19
        }
      ]
    },
    {
      "cell_type": "markdown",
      "source": [
        "## 2.9 Function returning a dictionary\n",
        "\n",
        "\n"
      ],
      "metadata": {
        "id": "K61Enxmw0vNE"
      }
    },
    {
      "cell_type": "code",
      "source": [
        "def count_positive_negative(lst):\n",
        "    positive_count = 0\n",
        "    negative_count = 0\n",
        "\n",
        "    for num in lst:\n",
        "        if num > 0:\n",
        "            positive_count += 1\n",
        "        elif num < 0:\n",
        "            negative_count += 1\n",
        "\n",
        "    count_dict = {\"positive\": positive_count, \"negative\": negative_count}\n",
        "    return count_dict"
      ],
      "metadata": {
        "id": "Nf8Yplqw0-Gi"
      },
      "execution_count": null,
      "outputs": []
    },
    {
      "cell_type": "markdown",
      "source": [
        "Here's an example usage of the function:"
      ],
      "metadata": {
        "id": "pXwxtpya1B3-"
      }
    },
    {
      "cell_type": "code",
      "source": [
        "my_list = [10, -5, 6, -3, -2, 0, 1]\n",
        "result = count_positive_negative(my_list)\n",
        "print(result)  # Output: {'positive': 3, 'negative': 3}\n"
      ],
      "metadata": {
        "colab": {
          "base_uri": "https://localhost:8080/"
        },
        "id": "pkp5lJza1AzM",
        "outputId": "8bca9f61-373b-47ff-e241-99080bd99980"
      },
      "execution_count": null,
      "outputs": [
        {
          "output_type": "stream",
          "name": "stdout",
          "text": [
            "{'positive': 3, 'negative': 3}\n"
          ]
        }
      ]
    },
    {
      "cell_type": "markdown",
      "metadata": {
        "id": "iQhPHzJk8wkU"
      },
      "source": [
        "## Let's practice with functions!\n"
      ]
    },
    {
      "cell_type": "markdown",
      "source": [
        " ### <font color=\"green\"> Exercise 0: Data Sciency Function </font>"
      ],
      "metadata": {
        "id": "3ht5OPA6ud9f"
      }
    },
    {
      "cell_type": "code",
      "source": [
        "def mm_to_in(mm):\n",
        "  inches = mm / 25.5\n",
        "  return inches"
      ],
      "metadata": {
        "id": "tpRDq0x3vAe7"
      },
      "execution_count": null,
      "outputs": []
    },
    {
      "cell_type": "code",
      "source": [
        "feb_precipitation_mm = 19.20\n",
        "mm_to_in(feb_precipitation_mm)\n",
        "\n",
        "# creating a variable to store the output of the function\n",
        "feb_precipitation_in = mm_to_in(feb_precipitation_mm)\n",
        "feb_precipitation_in"
      ],
      "metadata": {
        "id": "gNWUVA_Uvbir"
      },
      "execution_count": null,
      "outputs": []
    },
    {
      "cell_type": "code",
      "source": [
        "avg_monthly_precip_mm = [17.78, 19.05, 46.99, 74.422,\n",
        "                                  77.47, 51.308, 49.022, 41.148,\n",
        "                                  46.736, 33.274, 35.306, 21.336]\n",
        "\n",
        "# Function to calculate yearly average precipitation\n",
        "def yearly_avg(monthly_list):\n",
        "  total_prep = 0\n",
        "  for i in monthly_list:\n",
        "    total_prep += i\n",
        "  return total_prep/12\n",
        "\n",
        "yearly_avg(avg_monthly_precip_mm)"
      ],
      "metadata": {
        "colab": {
          "base_uri": "https://localhost:8080/"
        },
        "id": "1PWEkOwAw9bE",
        "outputId": "999ab159-c1c5-4fdc-8455-6484bab1f421"
      },
      "execution_count": null,
      "outputs": [
        {
          "output_type": "execute_result",
          "data": {
            "text/plain": [
              "42.820166666666665"
            ]
          },
          "metadata": {},
          "execution_count": 16
        }
      ]
    },
    {
      "cell_type": "markdown",
      "metadata": {
        "id": "RpkBCJpj8wkW"
      },
      "source": [
        "\n",
        "\n",
        " ### <font color=\"green\"> Exercise 1: Determining Divisors </font>\n",
        "\n",
        "Create a function that asks the user for a number and then prints out a list of all the divisors of that number.\n",
        "\n",
        "A divisor is a number that divides evenly into another number. <br>\n",
        "\n",
        "For example, 3 is a divisor of 9 because 9 / 3 has no remainder."
      ]
    },
    {
      "cell_type": "code",
      "execution_count": null,
      "metadata": {
        "id": "4xBg5ZwB8wkX",
        "colab": {
          "base_uri": "https://localhost:8080/"
        },
        "outputId": "4a9bb5f7-56bf-4b61-e640-251a09f12a10"
      },
      "outputs": [
        {
          "output_type": "stream",
          "name": "stdout",
          "text": [
            "enter your number: 10\n",
            "[1]\n",
            "[1, 2]\n",
            "[1, 2]\n",
            "[1, 2]\n",
            "[1, 2, 5]\n",
            "[1, 2, 5]\n",
            "[1, 2, 5]\n",
            "[1, 2, 5]\n",
            "[1, 2, 5]\n",
            "[1, 2, 5, 10]\n"
          ]
        }
      ],
      "source": [
        "num= int(input (\"enter your number: \"))\n",
        "list_=[]\n",
        "for i in range (1, num+1):\n",
        "  #print (i)\n",
        "  if num % i==0:\n",
        "    list_.append(i)\n",
        "\n",
        "  print (list_)"
      ]
    },
    {
      "cell_type": "markdown",
      "metadata": {
        "id": "iDWQDWsL8wkX"
      },
      "source": [
        "### <font color=\"green\"> Exercise 2: Picking Primes </font>\n",
        "Ask the user for a number and determine whether the number is prime or not.\n",
        "\n",
        "(For those who have forgotten, a prime number is a number that has no divisors.)"
      ]
    },
    {
      "cell_type": "code",
      "execution_count": null,
      "metadata": {
        "id": "vJluq5Xo8wkZ"
      },
      "outputs": [],
      "source": []
    },
    {
      "cell_type": "markdown",
      "metadata": {
        "id": "rGq2ZaMZ8wkZ"
      },
      "source": [
        "### <font color=\"green\"> Exercise 3: Guessing Game </font>\n",
        "Generate a random integer from 1 to 9 (inclusive). <br>\n",
        "**Phase 1**: Ask the user to guess the number, and tell them whether their guess was too low, too high, or correct. <br>\n",
        "**Phase 2**: Keep the game going until the user gets the correct number. <br>\n",
        "**Bonus:** Keep track of how many guesses the user has taken, and when the game ends print this out.\n",
        "\n",
        "You'll need to use the random module for this question. See here for more info on random: [Python 3](https://docs.python.org/3/library/random.html)"
      ]
    },
    {
      "cell_type": "code",
      "execution_count": null,
      "metadata": {
        "id": "k-ARTsQd8wka"
      },
      "outputs": [],
      "source": []
    },
    {
      "cell_type": "markdown",
      "metadata": {
        "id": "VZkZ5Ls48wkb"
      },
      "source": [
        "### <font color=\"green\"> Exercise 4: Rock-Paper-Scissors </font>\n",
        "Create a function to make a two-player Rock-Paper-Scissors game. <br>\n",
        "\n",
        "Ask for moves using input, compare them, print out a congratuations message to the winner, and ask if the players would like to start a new game.\n",
        "\n",
        "Remember the rules:\n",
        "* Rock beats scissors\n",
        "* Scissors beats paper\n",
        "* Paper beats rock"
      ]
    },
    {
      "cell_type": "code",
      "execution_count": null,
      "metadata": {
        "id": "3WJ0yF3B8wkc"
      },
      "outputs": [],
      "source": []
    }
  ],
  "metadata": {
    "anaconda-cloud": {},
    "kernelspec": {
      "display_name": "Python 3",
      "language": "python",
      "name": "python3"
    },
    "language_info": {
      "codemirror_mode": {
        "name": "ipython",
        "version": 3
      },
      "file_extension": ".py",
      "mimetype": "text/x-python",
      "name": "python",
      "nbconvert_exporter": "python",
      "pygments_lexer": "ipython3",
      "version": "3.7.3"
    },
    "colab": {
      "provenance": [],
      "include_colab_link": true
    }
  },
  "nbformat": 4,
  "nbformat_minor": 0
}