{
  "nbformat": 4,
  "nbformat_minor": 0,
  "metadata": {
    "colab": {
      "provenance": [],
      "toc_visible": true,
      "include_colab_link": true
    },
    "kernelspec": {
      "name": "python3",
      "display_name": "Python 3"
    },
    "language_info": {
      "name": "python"
    }
  },
  "cells": [
    {
      "cell_type": "markdown",
      "metadata": {
        "id": "view-in-github",
        "colab_type": "text"
      },
      "source": [
        "<a href=\"https://colab.research.google.com/github/QianqianLiu/2024_Cybertraining/blob/main/pylibs_1_introduction.ipynb\" target=\"_parent\"><img src=\"https://colab.research.google.com/assets/colab-badge.svg\" alt=\"Open In Colab\"/></a>"
      ]
    },
    {
      "cell_type": "markdown",
      "source": [
        "# **1 Introduction to pylibs**\n",
        "\n",
        "## **1.1 What is pylibs?**\n",
        "pylibs is a very light python package, which integrates many popular functions/objects/scripts frequently used in marine science research in one place.\n",
        "\n",
        "\n",
        "[pylibs website](https://github.com/wzhengui/pylibs)"
      ],
      "metadata": {
        "id": "VnO8Sadlgddx"
      }
    },
    {
      "cell_type": "markdown",
      "source": [
        "## **1.2 pylibs features**\n",
        "\n",
        "* simple rules\n",
        "  * matlab style, efficient, easy to use, easy to maintain\n",
        "\n",
        "* abundant functions for marine science reseraches\n",
        "\n",
        "* limited dependence\n",
        "  * easy to install, and quality control\n",
        "  "
      ],
      "metadata": {
        "id": "05i68jSmL0RT"
      }
    },
    {
      "cell_type": "markdown",
      "source": [
        "## **1.3 pylibs installation**\n",
        "`pip install pylibs-ocean`\n",
        "\n",
        "<br> **note**: in google-colab, use `!pip install pylibs-ocean`"
      ],
      "metadata": {
        "id": "7IrDboYeOFea"
      }
    },
    {
      "cell_type": "markdown",
      "source": [
        "## **1.4 pylibs import**\n"
      ],
      "metadata": {
        "id": "FiO-3W0uTtaO"
      }
    },
    {
      "cell_type": "markdown",
      "source": [
        "### **1.4.1 explicit import**\n",
        "To import a certain function or class into the current namespace, we can use:  <br>\n",
        "`from pylib import mod_name` <br>\n",
        "\n",
        "<br>\n",
        "\n",
        "### Here are some examples:\n",
        "`import pylib as pl` <br>\n",
        "`from pylib import read_schism_hgrid, read_schism_bpfile` <br>\n",
        "`from pylib import zdata, loadz, savez, ReadNC, WriteNC` <br>"
      ],
      "metadata": {
        "id": "rMl84YNvULsG"
      }
    },
    {
      "cell_type": "markdown",
      "source": [
        "\n",
        "### **1.4.2 implicit import**\n",
        "For simplicity, we can also import all the functions/classes of pylibs into current namepace: <br>\n",
        "\n",
        "`from pylib import * `\n",
        "\n",
        "**Note: In this pylibs training, implicit import is used for convienience**"
      ],
      "metadata": {
        "id": "NQBZg6N3Uzfu"
      }
    },
    {
      "cell_type": "markdown",
      "source": [
        "## **1.5 some of pylibs functions**\n",
        "\n",
        "* dealing with different file formats\n",
        "  * ASCII, netcdf, shapefiel, matlab, excel, asc, tiff, etc.\n",
        "* managing database\n",
        "  * create, save and read databases\n",
        "* data analysis\n",
        "  * statistics, harmonic analysis, low-pass filters, least square fit, etc.\n",
        "* geometry computation\n",
        "  * projection, nearest points, computing contours\n",
        "* plotting\n",
        "  * annotation, time manipulation\n",
        "\n",
        "<br>\n",
        "\n",
        "**More advanced features**\n",
        "* support of numerical modeling\n",
        "* support for the usage of high-performance-computing"
      ],
      "metadata": {
        "id": "dxNbL--aWTXF"
      }
    },
    {
      "cell_type": "markdown",
      "source": [
        "## **1.6 what you can do with pylibs**\n",
        "\n",
        "You can learn the entire workflow in doing marine science research from pylibs including:\n",
        "\n",
        "  1. data acquisition\n",
        "  2. data processing\n",
        "  3. data analysis\n",
        "  4. data visualization"
      ],
      "metadata": {
        "id": "MN57DxtYceHx"
      }
    },
    {
      "cell_type": "markdown",
      "source": [
        "## **hand-on excercise:**\n",
        "  1. install and import pylibs\n",
        "  2. lookup function help document (resize)\n",
        "  3. play with resize"
      ],
      "metadata": {
        "id": "vcLmMvXbiwl1"
      }
    },
    {
      "cell_type": "code",
      "source": [
        "# install pylibs\n",
        "!pip install pylibs-ocean"
      ],
      "metadata": {
        "id": "1EEykUXKjnm_"
      },
      "execution_count": null,
      "outputs": []
    },
    {
      "cell_type": "code",
      "source": [
        "# import pylib\n",
        "from pylib import *"
      ],
      "metadata": {
        "id": "JHbk7upYj0yH"
      },
      "execution_count": null,
      "outputs": []
    },
    {
      "cell_type": "code",
      "source": [
        "#look up pylib function\n",
        "resize?"
      ],
      "metadata": {
        "id": "K00olMdKjCoe"
      },
      "execution_count": null,
      "outputs": []
    },
    {
      "cell_type": "code",
      "source": [
        "a=array([[1,2,3],\n",
        "         [4,5,6]])\n",
        "a"
      ],
      "metadata": {
        "id": "E9v1EFfXj7nY"
      },
      "execution_count": null,
      "outputs": []
    },
    {
      "cell_type": "code",
      "source": [
        "b=resize(a,[4,4])\n",
        "b"
      ],
      "metadata": {
        "id": "DPsIJNx_kRS2"
      },
      "execution_count": null,
      "outputs": []
    },
    {
      "cell_type": "code",
      "source": [
        "c=resize(a,[4,4],99)\n",
        "c"
      ],
      "metadata": {
        "id": "d8zuVMDMkTjX"
      },
      "execution_count": null,
      "outputs": []
    }
  ]
}